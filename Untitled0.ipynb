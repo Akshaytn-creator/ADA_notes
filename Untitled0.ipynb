{
  "nbformat": 4,
  "nbformat_minor": 0,
  "metadata": {
    "colab": {
      "name": "Untitled0.ipynb",
      "provenance": [],
      "collapsed_sections": [],
      "authorship_tag": "ABX9TyMRna2mujxC/nitb4u49A8N",
      "include_colab_link": true
    },
    "kernelspec": {
      "name": "python3",
      "display_name": "Python 3"
    },
    "language_info": {
      "name": "python"
    }
  },
  "cells": [
    {
      "cell_type": "markdown",
      "metadata": {
        "id": "view-in-github",
        "colab_type": "text"
      },
      "source": [
        "<a href=\"https://colab.research.google.com/github/Akshaytn-creator/ADA_notes/blob/main/Untitled0.ipynb\" target=\"_parent\"><img src=\"https://colab.research.google.com/assets/colab-badge.svg\" alt=\"Open In Colab\"/></a>"
      ]
    },
    {
      "cell_type": "code",
      "metadata": {
        "colab": {
          "base_uri": "https://localhost:8080/"
        },
        "id": "8k4eA-oTcOu9",
        "outputId": "a1422e2a-c792-4681-bdb8-27990c789df8"
      },
      "source": [
        "#this is my first program\n",
        "print(\"welcome to workshop Akshay\")"
      ],
      "execution_count": 1,
      "outputs": [
        {
          "output_type": "stream",
          "name": "stdout",
          "text": [
            "welcome to workshop Akshay\n"
          ]
        }
      ]
    },
    {
      "cell_type": "code",
      "metadata": {
        "colab": {
          "base_uri": "https://localhost:8080/"
        },
        "id": "3qD8yq5_cltb",
        "outputId": "da42fd72-1984-443d-ef67-35139127a632"
      },
      "source": [
        "a=10\n",
        "print(a)"
      ],
      "execution_count": 2,
      "outputs": [
        {
          "output_type": "stream",
          "name": "stdout",
          "text": [
            "10\n"
          ]
        }
      ]
    },
    {
      "cell_type": "code",
      "metadata": {
        "colab": {
          "base_uri": "https://localhost:8080/"
        },
        "id": "XiFpYboQdGHV",
        "outputId": "a0aa2742-fc16-4f3a-b8b1-0738f9ba2623"
      },
      "source": [
        "print(\"welcome\"+\"to\"+\"python\")"
      ],
      "execution_count": 3,
      "outputs": [
        {
          "output_type": "stream",
          "name": "stdout",
          "text": [
            "welcometopython\n"
          ]
        }
      ]
    },
    {
      "cell_type": "code",
      "metadata": {
        "colab": {
          "base_uri": "https://localhost:8080/"
        },
        "id": "r4EDs2JpdjEe",
        "outputId": "c4a5c5d7-b72e-47d1-a577-d5d10ae81862"
      },
      "source": [
        "print(\"welcome\\t\"+\"to\\t\"+\"python\")"
      ],
      "execution_count": 4,
      "outputs": [
        {
          "output_type": "stream",
          "name": "stdout",
          "text": [
            "welcome\tto\tpython\n"
          ]
        }
      ]
    },
    {
      "cell_type": "code",
      "metadata": {
        "colab": {
          "base_uri": "https://localhost:8080/"
        },
        "id": "GJYWqXh0dyCX",
        "outputId": "766788b8-1c9a-49e9-b926-454fa5f284f0"
      },
      "source": [
        "print(len(\"python\"))"
      ],
      "execution_count": 5,
      "outputs": [
        {
          "output_type": "stream",
          "name": "stdout",
          "text": [
            "6\n"
          ]
        }
      ]
    },
    {
      "cell_type": "code",
      "metadata": {
        "colab": {
          "base_uri": "https://localhost:8080/"
        },
        "id": "zkakSCU0eC2G",
        "outputId": "36efb5b3-8f26-4070-c39b-ff077d59a543"
      },
      "source": [
        "type(print)"
      ],
      "execution_count": 6,
      "outputs": [
        {
          "output_type": "execute_result",
          "data": {
            "text/plain": [
              "builtin_function_or_method"
            ]
          },
          "metadata": {},
          "execution_count": 6
        }
      ]
    },
    {
      "cell_type": "code",
      "metadata": {
        "colab": {
          "base_uri": "https://localhost:8080/"
        },
        "id": "KAyoSGx5eH0j",
        "outputId": "846866c4-7da1-4dfc-e648-8072ef570e47"
      },
      "source": [
        "a=7\n",
        "type(a)"
      ],
      "execution_count": 7,
      "outputs": [
        {
          "output_type": "execute_result",
          "data": {
            "text/plain": [
              "int"
            ]
          },
          "metadata": {},
          "execution_count": 7
        }
      ]
    },
    {
      "cell_type": "code",
      "metadata": {
        "colab": {
          "base_uri": "https://localhost:8080/"
        },
        "id": "ysIsDtNBelmV",
        "outputId": "83bf22e1-b30f-4ba5-b4b5-9a87f82fcf5c"
      },
      "source": [
        "print(a)"
      ],
      "execution_count": 8,
      "outputs": [
        {
          "output_type": "stream",
          "name": "stdout",
          "text": [
            "7\n"
          ]
        }
      ]
    },
    {
      "cell_type": "code",
      "metadata": {
        "colab": {
          "base_uri": "https://localhost:8080/"
        },
        "id": "z5T_o0hwep0b",
        "outputId": "fede78d9-aafa-4e45-e70c-4b2c578e8659"
      },
      "source": [
        "print('x','y','z')"
      ],
      "execution_count": 9,
      "outputs": [
        {
          "output_type": "stream",
          "name": "stdout",
          "text": [
            "x y z\n"
          ]
        }
      ]
    },
    {
      "cell_type": "code",
      "metadata": {
        "colab": {
          "base_uri": "https://localhost:8080/"
        },
        "id": "OaBZHwuue6iy",
        "outputId": "e3e30f55-dbc7-4064-d996-9a204aa40c8b"
      },
      "source": [
        "print('x','y','z',sep='\\t')"
      ],
      "execution_count": 10,
      "outputs": [
        {
          "output_type": "stream",
          "name": "stdout",
          "text": [
            "x\ty\tz\n"
          ]
        }
      ]
    },
    {
      "cell_type": "code",
      "metadata": {
        "colab": {
          "base_uri": "https://localhost:8080/"
        },
        "id": "LeWFfNw5fGYl",
        "outputId": "244aef16-61aa-4532-ef5a-3ead79471374"
      },
      "source": [
        "print('x','y','z',sep='#')"
      ],
      "execution_count": 11,
      "outputs": [
        {
          "output_type": "stream",
          "name": "stdout",
          "text": [
            "x#y#z\n"
          ]
        }
      ]
    },
    {
      "cell_type": "code",
      "metadata": {
        "colab": {
          "base_uri": "https://localhost:8080/"
        },
        "id": "B3SqF7p-fPUj",
        "outputId": "613ba5f2-9417-4d62-f68b-c6a7bfcf81fb"
      },
      "source": [
        "word='RVCE'\n",
        "sentence='I am MCA student'\n",
        "print(word)\n",
        "print(sentence)"
      ],
      "execution_count": 12,
      "outputs": [
        {
          "output_type": "stream",
          "name": "stdout",
          "text": [
            "RVCE\n",
            "I am MCA student\n"
          ]
        }
      ]
    },
    {
      "cell_type": "code",
      "metadata": {
        "colab": {
          "base_uri": "https://localhost:8080/"
        },
        "id": "sUQjIP4KfjDc",
        "outputId": "817fdb57-1202-400a-8e22-24a0cada10b1"
      },
      "source": [
        "a=10;b=20;print(a+b)"
      ],
      "execution_count": 13,
      "outputs": [
        {
          "output_type": "stream",
          "name": "stdout",
          "text": [
            "30\n"
          ]
        }
      ]
    },
    {
      "cell_type": "code",
      "metadata": {
        "colab": {
          "base_uri": "https://localhost:8080/"
        },
        "id": "o6-VR7YafzQC",
        "outputId": "25f0664a-acb0-4d23-a52e-79f9c62ef8ff"
      },
      "source": [
        "a=7\n",
        "b=10\n",
        "print(a+b)"
      ],
      "execution_count": 14,
      "outputs": [
        {
          "output_type": "stream",
          "name": "stdout",
          "text": [
            "17\n"
          ]
        }
      ]
    },
    {
      "cell_type": "code",
      "metadata": {
        "colab": {
          "base_uri": "https://localhost:8080/"
        },
        "id": "gh9YzVfPgESS",
        "outputId": "f5b4e335-299d-428b-d537-5cc2a55e3fe6"
      },
      "source": [
        "usn=20\n",
        "name='akshay'\n",
        "test=34.5\n",
        "print(usn)\n",
        "print(name)\n",
        "print(test)"
      ],
      "execution_count": 1,
      "outputs": [
        {
          "output_type": "stream",
          "name": "stdout",
          "text": [
            "20\n",
            "akshay\n",
            "34.5\n"
          ]
        }
      ]
    },
    {
      "cell_type": "code",
      "metadata": {
        "colab": {
          "base_uri": "https://localhost:8080/"
        },
        "id": "Q0einE9TgkUw",
        "outputId": "6ecc3d47-1815-4d38-b240-8fc9dfc1d5e1"
      },
      "source": [
        "a=b=20\n",
        "print(a)\n",
        "print(b)"
      ],
      "execution_count": 3,
      "outputs": [
        {
          "output_type": "stream",
          "name": "stdout",
          "text": [
            "20\n",
            "20\n"
          ]
        }
      ]
    },
    {
      "cell_type": "code",
      "metadata": {
        "colab": {
          "base_uri": "https://localhost:8080/"
        },
        "id": "a8t-IguMg4zt",
        "outputId": "e0fd3333-c1f3-4714-ddb9-5e1c8d0a33ce"
      },
      "source": [
        "a,b,c=7,28,'Akshay'\n",
        "print(a)\n",
        "print(b)\n",
        "print(c)"
      ],
      "execution_count": 4,
      "outputs": [
        {
          "output_type": "stream",
          "name": "stdout",
          "text": [
            "7\n",
            "28\n",
            "Akshay\n"
          ]
        }
      ]
    },
    {
      "cell_type": "code",
      "metadata": {
        "colab": {
          "base_uri": "https://localhost:8080/"
        },
        "id": "f1hwS6qWhHbj",
        "outputId": "2e8cc613-ed7b-4d53-b935-49a99c40503e"
      },
      "source": [
        "var1=10\n",
        "var2=30\n",
        "print(var1*var2)"
      ],
      "execution_count": 5,
      "outputs": [
        {
          "output_type": "stream",
          "name": "stdout",
          "text": [
            "300\n"
          ]
        }
      ]
    },
    {
      "cell_type": "code",
      "metadata": {
        "id": "iC3VBDv2hQiy"
      },
      "source": [
        "var1=20.5\n"
      ],
      "execution_count": 6,
      "outputs": []
    },
    {
      "cell_type": "code",
      "metadata": {
        "colab": {
          "base_uri": "https://localhost:8080/"
        },
        "id": "lsnJ_w1fh3a0",
        "outputId": "8c1ae597-5342-419f-a088-058dcbaf43ea"
      },
      "source": [
        "v1=input()\n"
      ],
      "execution_count": 9,
      "outputs": [
        {
          "name": "stdout",
          "output_type": "stream",
          "text": [
            "10\n"
          ]
        }
      ]
    },
    {
      "cell_type": "code",
      "metadata": {
        "colab": {
          "base_uri": "https://localhost:8080/"
        },
        "id": "Cyj_-YiuiTAs",
        "outputId": "88a706cb-3d65-4fe7-c4a0-a4f64cdf50b5"
      },
      "source": [
        "v2=input()"
      ],
      "execution_count": 10,
      "outputs": [
        {
          "name": "stdout",
          "output_type": "stream",
          "text": [
            "30\n"
          ]
        }
      ]
    },
    {
      "cell_type": "code",
      "metadata": {
        "colab": {
          "base_uri": "https://localhost:8080/"
        },
        "id": "5-IUnZQhiW0-",
        "outputId": "ed28851f-472c-4da5-8ebc-e333f3362ac5"
      },
      "source": [
        "print(v1)"
      ],
      "execution_count": 11,
      "outputs": [
        {
          "output_type": "stream",
          "name": "stdout",
          "text": [
            "10\n"
          ]
        }
      ]
    },
    {
      "cell_type": "code",
      "metadata": {
        "colab": {
          "base_uri": "https://localhost:8080/"
        },
        "id": "bEI0lG9zihNx",
        "outputId": "22dd809d-1ea2-4e5e-ff7c-351c6f0f88a0"
      },
      "source": [
        "print(v2)"
      ],
      "execution_count": 12,
      "outputs": [
        {
          "output_type": "stream",
          "name": "stdout",
          "text": [
            "30\n"
          ]
        }
      ]
    },
    {
      "cell_type": "code",
      "metadata": {
        "colab": {
          "base_uri": "https://localhost:8080/"
        },
        "id": "8rfN7nu2ikXv",
        "outputId": "e908432a-5e3f-4cab-ef0d-cafa6b98b082"
      },
      "source": [
        "print(v1+v2)"
      ],
      "execution_count": 15,
      "outputs": [
        {
          "output_type": "stream",
          "name": "stdout",
          "text": [
            "1030\n"
          ]
        }
      ]
    },
    {
      "cell_type": "code",
      "metadata": {
        "colab": {
          "base_uri": "https://localhost:8080/"
        },
        "id": "1AOPRCllirZF",
        "outputId": "369a7108-198b-4265-b2d9-cd328d84d00b"
      },
      "source": [
        "str1=\"WELCOME TO PYTHON\"\n",
        "print(str1)"
      ],
      "execution_count": 16,
      "outputs": [
        {
          "output_type": "stream",
          "name": "stdout",
          "text": [
            "WELCOME TO PYTHON\n"
          ]
        }
      ]
    },
    {
      "cell_type": "code",
      "metadata": {
        "colab": {
          "base_uri": "https://localhost:8080/"
        },
        "id": "xCkiQHbIi4z-",
        "outputId": "0bd9fdd2-1386-4310-cee4-ed5de784eb8b"
      },
      "source": [
        "print(str1[1])"
      ],
      "execution_count": 17,
      "outputs": [
        {
          "output_type": "stream",
          "name": "stdout",
          "text": [
            "E\n"
          ]
        }
      ]
    },
    {
      "cell_type": "code",
      "metadata": {
        "colab": {
          "base_uri": "https://localhost:8080/"
        },
        "id": "VdD2AQJhi8ap",
        "outputId": "94fcbdb8-80b0-4843-edf8-7d6dd91af688"
      },
      "source": [
        "print(str1[2:5])"
      ],
      "execution_count": 18,
      "outputs": [
        {
          "output_type": "stream",
          "name": "stdout",
          "text": [
            "LCO\n"
          ]
        }
      ]
    },
    {
      "cell_type": "code",
      "metadata": {
        "colab": {
          "base_uri": "https://localhost:8080/"
        },
        "id": "yQlmdnDKjCPe",
        "outputId": "f4bfaf33-0db1-4bc3-d8aa-bea472140a87"
      },
      "source": [
        "print(str1[2:])"
      ],
      "execution_count": 19,
      "outputs": [
        {
          "output_type": "stream",
          "name": "stdout",
          "text": [
            "LCOME TO PYTHON\n"
          ]
        }
      ]
    },
    {
      "cell_type": "code",
      "metadata": {
        "colab": {
          "base_uri": "https://localhost:8080/"
        },
        "id": "WQLHMQ5WjI9m",
        "outputId": "7ca9d476-3599-4df6-bfaa-6ead79c6f35e"
      },
      "source": [
        "print(str1[:])"
      ],
      "execution_count": 20,
      "outputs": [
        {
          "output_type": "stream",
          "name": "stdout",
          "text": [
            "WELCOME TO PYTHON\n"
          ]
        }
      ]
    },
    {
      "cell_type": "code",
      "metadata": {
        "colab": {
          "base_uri": "https://localhost:8080/"
        },
        "id": "wTD2EVGYjWiw",
        "outputId": "05a87430-4305-420e-cf90-b742ff54c7ac"
      },
      "source": [
        "print(str1*2)"
      ],
      "execution_count": 21,
      "outputs": [
        {
          "output_type": "stream",
          "name": "stdout",
          "text": [
            "WELCOME TO PYTHONWELCOME TO PYTHON\n"
          ]
        }
      ]
    },
    {
      "cell_type": "code",
      "metadata": {
        "colab": {
          "base_uri": "https://localhost:8080/"
        },
        "id": "197sn8XJjkQD",
        "outputId": "ddde7272-e171-4499-ef18-f5019f2f8f31"
      },
      "source": [
        "print(str1+'akshay')"
      ],
      "execution_count": 24,
      "outputs": [
        {
          "output_type": "stream",
          "name": "stdout",
          "text": [
            "WELCOME TO PYTHONakshay\n"
          ]
        }
      ]
    },
    {
      "cell_type": "markdown",
      "metadata": {
        "id": "0rlqhNnhkYn5"
      },
      "source": [
        "**LIST**"
      ]
    },
    {
      "cell_type": "code",
      "metadata": {
        "colab": {
          "base_uri": "https://localhost:8080/"
        },
        "id": "t05A0nCBketY",
        "outputId": "79f766ac-9421-4214-a1de-06690fcf16ac"
      },
      "source": [
        "A=[\"Akshay\",10,20,7]\n",
        "print(A)"
      ],
      "execution_count": 25,
      "outputs": [
        {
          "output_type": "stream",
          "name": "stdout",
          "text": [
            "['Akshay', 10, 20, 7]\n"
          ]
        }
      ]
    },
    {
      "cell_type": "code",
      "metadata": {
        "colab": {
          "base_uri": "https://localhost:8080/"
        },
        "id": "T0EldA_vkuUj",
        "outputId": "f8497fb1-26f0-4e75-dab9-9f0f25df438b"
      },
      "source": [
        "A1=[\"ml\",7]\n",
        "print(A)\n",
        "print(A1)"
      ],
      "execution_count": 26,
      "outputs": [
        {
          "output_type": "stream",
          "name": "stdout",
          "text": [
            "['Akshay', 10, 20, 7]\n",
            "['ml', 7]\n"
          ]
        }
      ]
    },
    {
      "cell_type": "code",
      "metadata": {
        "colab": {
          "base_uri": "https://localhost:8080/"
        },
        "id": "vE6e5AODlFDB",
        "outputId": "d6f10363-a6ea-47aa-cdfd-ab84d56cc4fe"
      },
      "source": [
        "print(A[-2])"
      ],
      "execution_count": 27,
      "outputs": [
        {
          "output_type": "stream",
          "name": "stdout",
          "text": [
            "20\n"
          ]
        }
      ]
    },
    {
      "cell_type": "code",
      "metadata": {
        "colab": {
          "base_uri": "https://localhost:8080/"
        },
        "id": "VP0ySuQ5lSwg",
        "outputId": "a57e37e9-49cc-48e7-97d1-500fab2eaa38"
      },
      "source": [
        "print(A[1:3])"
      ],
      "execution_count": 28,
      "outputs": [
        {
          "output_type": "stream",
          "name": "stdout",
          "text": [
            "[10, 20]\n"
          ]
        }
      ]
    },
    {
      "cell_type": "code",
      "metadata": {
        "colab": {
          "base_uri": "https://localhost:8080/"
        },
        "id": "HpulWUZBlWaG",
        "outputId": "96f28a08-2184-4888-8b34-6db6e86ffc8d"
      },
      "source": [
        "print(A1[0])"
      ],
      "execution_count": 29,
      "outputs": [
        {
          "output_type": "stream",
          "name": "stdout",
          "text": [
            "ml\n"
          ]
        }
      ]
    },
    {
      "cell_type": "code",
      "metadata": {
        "colab": {
          "base_uri": "https://localhost:8080/"
        },
        "id": "TxTEFUMSltnL",
        "outputId": "56e23731-d4d9-4374-b4a6-9dfd491c8012"
      },
      "source": [
        "print(A[:])"
      ],
      "execution_count": 30,
      "outputs": [
        {
          "output_type": "stream",
          "name": "stdout",
          "text": [
            "['Akshay', 10, 20, 7]\n"
          ]
        }
      ]
    },
    {
      "cell_type": "code",
      "metadata": {
        "colab": {
          "base_uri": "https://localhost:8080/"
        },
        "id": "L_2TcJAQmFDY",
        "outputId": "2985267a-cb46-465d-f273-d8a7dd5005b9"
      },
      "source": [
        "print(A1[1:])"
      ],
      "execution_count": 32,
      "outputs": [
        {
          "output_type": "stream",
          "name": "stdout",
          "text": [
            "[7]\n"
          ]
        }
      ]
    },
    {
      "cell_type": "code",
      "metadata": {
        "colab": {
          "base_uri": "https://localhost:8080/"
        },
        "id": "2zSfMCipmPuJ",
        "outputId": "137ed245-1e28-437a-bc54-2ae5fa4092b0"
      },
      "source": [
        "print(A*2)"
      ],
      "execution_count": 33,
      "outputs": [
        {
          "output_type": "stream",
          "name": "stdout",
          "text": [
            "['Akshay', 10, 20, 7, 'Akshay', 10, 20, 7]\n"
          ]
        }
      ]
    },
    {
      "cell_type": "code",
      "metadata": {
        "colab": {
          "base_uri": "https://localhost:8080/"
        },
        "id": "h93SrMCmmqxx",
        "outputId": "0c5c32d2-86d9-4912-ee12-b94a26b8730c"
      },
      "source": [
        "A[2]=\"WAP\"\n",
        "print(A)\n"
      ],
      "execution_count": 34,
      "outputs": [
        {
          "output_type": "stream",
          "name": "stdout",
          "text": [
            "['Akshay', 10, 'WAP', 7]\n"
          ]
        }
      ]
    },
    {
      "cell_type": "code",
      "metadata": {
        "colab": {
          "base_uri": "https://localhost:8080/"
        },
        "id": "wfUcLpQMoM6I",
        "outputId": "ab27af45-c1f0-4147-f45b-c0390173b17b"
      },
      "source": [
        "t=('ABC',10,7,'Python')\n",
        "print(t)"
      ],
      "execution_count": 35,
      "outputs": [
        {
          "output_type": "stream",
          "name": "stdout",
          "text": [
            "('ABC', 10, 7, 'Python')\n"
          ]
        }
      ]
    },
    {
      "cell_type": "code",
      "metadata": {
        "colab": {
          "base_uri": "https://localhost:8080/"
        },
        "id": "LMLbefZhoa7e",
        "outputId": "9cedd6dd-14f3-4630-f2c3-6786252f061d"
      },
      "source": [
        "print(t*2)"
      ],
      "execution_count": 36,
      "outputs": [
        {
          "output_type": "stream",
          "name": "stdout",
          "text": [
            "('ABC', 10, 7, 'Python', 'ABC', 10, 7, 'Python')\n"
          ]
        }
      ]
    },
    {
      "cell_type": "code",
      "metadata": {
        "colab": {
          "base_uri": "https://localhost:8080/"
        },
        "id": "5kaUQcPlofZQ",
        "outputId": "a2039c8d-c697-4f43-aa91-de28580a8d6a"
      },
      "source": [
        "print(t[:2])"
      ],
      "execution_count": 37,
      "outputs": [
        {
          "output_type": "stream",
          "name": "stdout",
          "text": [
            "('ABC', 10)\n"
          ]
        }
      ]
    },
    {
      "cell_type": "code",
      "metadata": {
        "colab": {
          "base_uri": "https://localhost:8080/"
        },
        "id": "6YYv4v9ioi4n",
        "outputId": "1da5fef6-83e9-4f48-e85d-c989e3a2b33e"
      },
      "source": [
        "print(t[1:3])"
      ],
      "execution_count": 38,
      "outputs": [
        {
          "output_type": "stream",
          "name": "stdout",
          "text": [
            "(10, 7)\n"
          ]
        }
      ]
    },
    {
      "cell_type": "code",
      "metadata": {
        "id": "bw_z1MI3onh1"
      },
      "source": [
        ""
      ],
      "execution_count": null,
      "outputs": []
    },
    {
      "cell_type": "markdown",
      "metadata": {
        "id": "KErBeK7BpHyh"
      },
      "source": [
        "**Dictionary**"
      ]
    },
    {
      "cell_type": "code",
      "metadata": {
        "colab": {
          "base_uri": "https://localhost:8080/"
        },
        "id": "w9pb6aTEpLwZ",
        "outputId": "67e36596-7ac2-4dfb-b6b5-c317478e55a4"
      },
      "source": [
        "dict={'name':'akshay','usn':20,'marks':89}\n",
        "print(dict)"
      ],
      "execution_count": 39,
      "outputs": [
        {
          "output_type": "stream",
          "name": "stdout",
          "text": [
            "{'name': 'akshay', 'usn': 20, 'marks': 89}\n"
          ]
        }
      ]
    },
    {
      "cell_type": "code",
      "metadata": {
        "colab": {
          "base_uri": "https://localhost:8080/"
        },
        "id": "IpQouWI_pnqb",
        "outputId": "a6d74d64-2095-4635-d610-15b9cfe4492e"
      },
      "source": [
        "dict['name']='ABC'\n",
        "print(dict)"
      ],
      "execution_count": 40,
      "outputs": [
        {
          "output_type": "stream",
          "name": "stdout",
          "text": [
            "{'name': 'ABC', 'usn': 20, 'marks': 89}\n"
          ]
        }
      ]
    },
    {
      "cell_type": "code",
      "metadata": {
        "colab": {
          "base_uri": "https://localhost:8080/"
        },
        "id": "G8esvO8Fp2Ry",
        "outputId": "500aa318-a8ee-4889-eafd-ebea622ff748"
      },
      "source": [
        "print(dict.keys())"
      ],
      "execution_count": 41,
      "outputs": [
        {
          "output_type": "stream",
          "name": "stdout",
          "text": [
            "dict_keys(['name', 'usn', 'marks'])\n"
          ]
        }
      ]
    },
    {
      "cell_type": "code",
      "metadata": {
        "colab": {
          "base_uri": "https://localhost:8080/"
        },
        "id": "EBv2b9oXqDis",
        "outputId": "0c387dfb-645a-4e6d-b27a-24015fba1d68"
      },
      "source": [
        "print(dict.values())"
      ],
      "execution_count": 42,
      "outputs": [
        {
          "output_type": "stream",
          "name": "stdout",
          "text": [
            "dict_values(['ABC', 20, 89])\n"
          ]
        }
      ]
    },
    {
      "cell_type": "markdown",
      "metadata": {
        "id": "00G0tijIrDda"
      },
      "source": [
        "**Conditional Statements**"
      ]
    },
    {
      "cell_type": "code",
      "metadata": {
        "colab": {
          "base_uri": "https://localhost:8080/"
        },
        "id": "ak5-1gj2rHh1",
        "outputId": "ee60e250-d707-4ce2-d26b-b0c65d299b7e"
      },
      "source": [
        "a=100\n",
        "b=200\n",
        "if a>b:\n",
        "  print(\"a is greater\")\n",
        "else:\n",
        "    print(\"b is greater\")\n"
      ],
      "execution_count": 44,
      "outputs": [
        {
          "output_type": "stream",
          "name": "stdout",
          "text": [
            "b is greater\n"
          ]
        }
      ]
    },
    {
      "cell_type": "code",
      "metadata": {
        "colab": {
          "base_uri": "https://localhost:8080/"
        },
        "id": "tEI1U-d2spXK",
        "outputId": "0bdc2e6b-8a33-4088-a684-2cc032d852a8"
      },
      "source": [
        "a=10\n",
        "b=30\n",
        "print('a') if a>b else print('b')"
      ],
      "execution_count": 45,
      "outputs": [
        {
          "output_type": "stream",
          "name": "stdout",
          "text": [
            "b\n"
          ]
        }
      ]
    },
    {
      "cell_type": "code",
      "metadata": {
        "colab": {
          "base_uri": "https://localhost:8080/"
        },
        "id": "dw300_qls9J_",
        "outputId": "a0ffee11-3107-4ea9-e8aa-21b181086beb"
      },
      "source": [
        "a=40\n",
        "b=20\n",
        "c=10\n",
        "if a>b or c>b:\n",
        "  print(\"b is small\")"
      ],
      "execution_count": 49,
      "outputs": [
        {
          "output_type": "stream",
          "name": "stdout",
          "text": [
            "b is small\n"
          ]
        }
      ]
    }
  ]
}